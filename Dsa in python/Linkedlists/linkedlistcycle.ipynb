{
 "cells": [
  {
   "cell_type": "code",
   "execution_count": null,
   "metadata": {},
   "outputs": [],
   "source": [
    "class Node:\n",
    "    def __init__(self,d):\n",
    "        self.d=d\n",
    "        self.n=None\n",
    "class LinkedListcycle:\n",
    "    def __init__(self,h):\n",
    "        self.head=None\n",
    "    \n",
    "    def Linked(self):\n",
    "        a=[1,2,3,-4]\n",
    "        p=1\n",
    "        if self.head is None:\n",
    "            for i in a:\n",
    "                n=Node(i)\n",
    "            n.next=self.head\n",
    "            self.head=n\n",
    "    def display(self):\n",
    "        temp=self.head\n",
    "        while temp:\n",
    "            print(temp.data,end=' ')\n",
    "            temp=temp.next\n",
    "        \n",
    "l=LinkedListcycle()\n",
    "\n",
    "l.display()\n",
    "\n",
    "\n",
    "        \n",
    "            \n",
    "\n"
   ]
  }
 ],
 "metadata": {
  "kernelspec": {
   "display_name": "Python 3.9.7 ('base')",
   "language": "python",
   "name": "python3"
  },
  "language_info": {
   "name": "python",
   "version": "3.9.7"
  },
  "orig_nbformat": 4,
  "vscode": {
   "interpreter": {
    "hash": "ad2bdc8ecc057115af97d19610ffacc2b4e99fae6737bb82f5d7fb13d2f2c186"
   }
  }
 },
 "nbformat": 4,
 "nbformat_minor": 2
}
